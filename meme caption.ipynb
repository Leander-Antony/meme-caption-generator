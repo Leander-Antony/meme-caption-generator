{
 "cells": [
  {
   "cell_type": "code",
   "execution_count": 36,
   "id": "ee64d5f5-7b20-4c08-9ae9-ef3ca92cb102",
   "metadata": {},
   "outputs": [
    {
     "name": "stdout",
     "output_type": "stream",
     "text": [
      "Warning: Looks like you're using an outdated `kagglehub` version (installed: 0.3.7), please consider upgrading to the latest version (0.3.11).\n",
      "Path to dataset files: C:\\Users\\Leander Antony\\.cache\\kagglehub\\datasets\\akuppps\\dankmemes-reddit-top-comments\\versions\\1\n"
     ]
    }
   ],
   "source": [
    "import kagglehub\n",
    "import pytesseract\n",
    "from PIL import Image\n",
    "import requests\n",
    "import pandas as pd\n",
    "from transformers import AutoProcessor, BlipForConditionalGeneration\n",
    "import ollama \n",
    "\n",
    "pytesseract.pytesseract.tesseract_cmd = r'C:\\Program Files\\Tesseract-OCR\\tesseract.exe' # my dir where i installed tesseract\n",
    "\n",
    "# Download latest version\n",
    "path = kagglehub.dataset_download(\"akuppps/dankmemes-reddit-top-comments\")\n",
    "\n",
    "print(\"Path to dataset files:\", path)"
   ]
  },
  {
   "cell_type": "code",
   "execution_count": 37,
   "id": "9c6feaff-408e-4925-9268-e883845742d8",
   "metadata": {},
   "outputs": [],
   "source": [
    "df = pd.read_csv(\"C:\\\\Users\\\\Leander Antony\\\\.cache\\\\kagglehub\\\\datasets\\\\akuppps\\\\dankmemes-reddit-top-comments\\\\versions\\\\1\\\\dankmemes_Top_Comments.csv\")"
   ]
  },
  {
   "cell_type": "code",
   "execution_count": 38,
   "id": "2bf89e5c-b1af-42b7-9f07-d22d0739969a",
   "metadata": {},
   "outputs": [
    {
     "data": {
      "text/html": [
       "<div>\n",
       "<style scoped>\n",
       "    .dataframe tbody tr th:only-of-type {\n",
       "        vertical-align: middle;\n",
       "    }\n",
       "\n",
       "    .dataframe tbody tr th {\n",
       "        vertical-align: top;\n",
       "    }\n",
       "\n",
       "    .dataframe thead th {\n",
       "        text-align: right;\n",
       "    }\n",
       "</style>\n",
       "<table border=\"1\" class=\"dataframe\">\n",
       "  <thead>\n",
       "    <tr style=\"text-align: right;\">\n",
       "      <th></th>\n",
       "      <th>Unnamed: 0</th>\n",
       "      <th>title</th>\n",
       "      <th>score</th>\n",
       "      <th>id</th>\n",
       "      <th>url</th>\n",
       "      <th>comms_num</th>\n",
       "      <th>created</th>\n",
       "      <th>body</th>\n",
       "      <th>timestamp</th>\n",
       "    </tr>\n",
       "  </thead>\n",
       "  <tbody>\n",
       "    <tr>\n",
       "      <th>1219</th>\n",
       "      <td>1219</td>\n",
       "      <td>Comment</td>\n",
       "      <td>5</td>\n",
       "      <td>i39ndvp</td>\n",
       "      <td>NaN</td>\n",
       "      <td>0</td>\n",
       "      <td>1.649018e+09</td>\n",
       "      <td>she, more like shit</td>\n",
       "      <td>2022-04-03 16:41:19</td>\n",
       "    </tr>\n",
       "    <tr>\n",
       "      <th>1539</th>\n",
       "      <td>1539</td>\n",
       "      <td>Comment</td>\n",
       "      <td>1</td>\n",
       "      <td>i395g2f</td>\n",
       "      <td>NaN</td>\n",
       "      <td>0</td>\n",
       "      <td>1.649011e+09</td>\n",
       "      <td>I prefer ram ranch</td>\n",
       "      <td>2022-04-03 14:37:24</td>\n",
       "    </tr>\n",
       "    <tr>\n",
       "      <th>591</th>\n",
       "      <td>591</td>\n",
       "      <td>Mom is OP</td>\n",
       "      <td>6541</td>\n",
       "      <td>tdra4t</td>\n",
       "      <td>https://i.redd.it/rpiap4ctqan81.jpg</td>\n",
       "      <td>18</td>\n",
       "      <td>1.647241e+09</td>\n",
       "      <td>NaN</td>\n",
       "      <td>2022-03-14 02:51:45</td>\n",
       "    </tr>\n",
       "    <tr>\n",
       "      <th>333</th>\n",
       "      <td>333</td>\n",
       "      <td>Literally 1984</td>\n",
       "      <td>13484</td>\n",
       "      <td>t7r6fj</td>\n",
       "      <td>https://i.redd.it/j6lyoqx60pl81.gif</td>\n",
       "      <td>50</td>\n",
       "      <td>1.646542e+09</td>\n",
       "      <td>NaN</td>\n",
       "      <td>2022-03-05 23:41:01</td>\n",
       "    </tr>\n",
       "    <tr>\n",
       "      <th>1551</th>\n",
       "      <td>1551</td>\n",
       "      <td>Comment</td>\n",
       "      <td>240</td>\n",
       "      <td>i3954w2</td>\n",
       "      <td>NaN</td>\n",
       "      <td>0</td>\n",
       "      <td>1.649011e+09</td>\n",
       "      <td>Meanwhile germans:</td>\n",
       "      <td>2022-04-03 14:35:12</td>\n",
       "    </tr>\n",
       "    <tr>\n",
       "      <th>138</th>\n",
       "      <td>138</td>\n",
       "      <td>Theist gnostic</td>\n",
       "      <td>27965</td>\n",
       "      <td>ts4a3x</td>\n",
       "      <td>https://i.redd.it/l93zwspx9iq81.jpg</td>\n",
       "      <td>58</td>\n",
       "      <td>1.648640e+09</td>\n",
       "      <td>NaN</td>\n",
       "      <td>2022-03-30 07:27:47</td>\n",
       "    </tr>\n",
       "    <tr>\n",
       "      <th>1703</th>\n",
       "      <td>1703</td>\n",
       "      <td>Comment</td>\n",
       "      <td>0</td>\n",
       "      <td>i38zw97</td>\n",
       "      <td>NaN</td>\n",
       "      <td>0</td>\n",
       "      <td>1.649009e+09</td>\n",
       "      <td>Hard to compare. While the US acknowledged its...</td>\n",
       "      <td>2022-04-03 13:59:20</td>\n",
       "    </tr>\n",
       "    <tr>\n",
       "      <th>1682</th>\n",
       "      <td>1682</td>\n",
       "      <td>Comment</td>\n",
       "      <td>2</td>\n",
       "      <td>i390imu</td>\n",
       "      <td>NaN</td>\n",
       "      <td>0</td>\n",
       "      <td>1.649009e+09</td>\n",
       "      <td>O nyooooooo he is cheating. He place colored p...</td>\n",
       "      <td>2022-04-03 14:03:32</td>\n",
       "    </tr>\n",
       "    <tr>\n",
       "      <th>819</th>\n",
       "      <td>819</td>\n",
       "      <td>WHERE ARE THEY</td>\n",
       "      <td>5854</td>\n",
       "      <td>tumhfz</td>\n",
       "      <td>https://i.redd.it/ghp1f14j45r81.gif</td>\n",
       "      <td>39</td>\n",
       "      <td>1.648916e+09</td>\n",
       "      <td>NaN</td>\n",
       "      <td>2022-04-02 12:14:35</td>\n",
       "    </tr>\n",
       "    <tr>\n",
       "      <th>1494</th>\n",
       "      <td>1494</td>\n",
       "      <td>Comment</td>\n",
       "      <td>1</td>\n",
       "      <td>i396zlg</td>\n",
       "      <td>NaN</td>\n",
       "      <td>0</td>\n",
       "      <td>1.649012e+09</td>\n",
       "      <td>Ducc 2:1 The power of Ducc could not be held b...</td>\n",
       "      <td>2022-04-03 14:48:18</td>\n",
       "    </tr>\n",
       "  </tbody>\n",
       "</table>\n",
       "</div>"
      ],
      "text/plain": [
       "      Unnamed: 0           title  score       id  \\\n",
       "1219        1219         Comment      5  i39ndvp   \n",
       "1539        1539         Comment      1  i395g2f   \n",
       "591          591       Mom is OP   6541   tdra4t   \n",
       "333          333  Literally 1984  13484   t7r6fj   \n",
       "1551        1551         Comment    240  i3954w2   \n",
       "138          138  Theist gnostic  27965   ts4a3x   \n",
       "1703        1703         Comment      0  i38zw97   \n",
       "1682        1682         Comment      2  i390imu   \n",
       "819          819  WHERE ARE THEY   5854   tumhfz   \n",
       "1494        1494         Comment      1  i396zlg   \n",
       "\n",
       "                                      url  comms_num       created  \\\n",
       "1219                                  NaN          0  1.649018e+09   \n",
       "1539                                  NaN          0  1.649011e+09   \n",
       "591   https://i.redd.it/rpiap4ctqan81.jpg         18  1.647241e+09   \n",
       "333   https://i.redd.it/j6lyoqx60pl81.gif         50  1.646542e+09   \n",
       "1551                                  NaN          0  1.649011e+09   \n",
       "138   https://i.redd.it/l93zwspx9iq81.jpg         58  1.648640e+09   \n",
       "1703                                  NaN          0  1.649009e+09   \n",
       "1682                                  NaN          0  1.649009e+09   \n",
       "819   https://i.redd.it/ghp1f14j45r81.gif         39  1.648916e+09   \n",
       "1494                                  NaN          0  1.649012e+09   \n",
       "\n",
       "                                                   body            timestamp  \n",
       "1219                                she, more like shit  2022-04-03 16:41:19  \n",
       "1539                                 I prefer ram ranch  2022-04-03 14:37:24  \n",
       "591                                                 NaN  2022-03-14 02:51:45  \n",
       "333                                                 NaN  2022-03-05 23:41:01  \n",
       "1551                                 Meanwhile germans:  2022-04-03 14:35:12  \n",
       "138                                                 NaN  2022-03-30 07:27:47  \n",
       "1703  Hard to compare. While the US acknowledged its...  2022-04-03 13:59:20  \n",
       "1682  O nyooooooo he is cheating. He place colored p...  2022-04-03 14:03:32  \n",
       "819                                                 NaN  2022-04-02 12:14:35  \n",
       "1494  Ducc 2:1 The power of Ducc could not be held b...  2022-04-03 14:48:18  "
      ]
     },
     "execution_count": 38,
     "metadata": {},
     "output_type": "execute_result"
    }
   ],
   "source": [
    "df.sample(10)"
   ]
  },
  {
   "cell_type": "code",
   "execution_count": 39,
   "id": "b80957ac-31c4-4b07-bf97-b493b218348a",
   "metadata": {},
   "outputs": [
    {
     "data": {
      "text/plain": [
       "1898"
      ]
     },
     "execution_count": 39,
     "metadata": {},
     "output_type": "execute_result"
    }
   ],
   "source": [
    "len(df[\"title\"])"
   ]
  },
  {
   "cell_type": "code",
   "execution_count": 40,
   "id": "bc31e83e-cdf6-4a6c-9ef9-bd8a4d5d448d",
   "metadata": {},
   "outputs": [
    {
     "data": {
      "text/plain": [
       "Unnamed: 0      0\n",
       "title           0\n",
       "score           0\n",
       "id              0\n",
       "url           899\n",
       "comms_num       0\n",
       "created         0\n",
       "body          999\n",
       "timestamp       0\n",
       "dtype: int64"
      ]
     },
     "execution_count": 40,
     "metadata": {},
     "output_type": "execute_result"
    }
   ],
   "source": [
    "df.isna().sum()"
   ]
  },
  {
   "cell_type": "code",
   "execution_count": 41,
   "id": "a58f3fee-caa8-483c-8278-2bcee8b854a0",
   "metadata": {},
   "outputs": [
    {
     "name": "stdout",
     "output_type": "stream",
     "text": [
      "<class 'pandas.core.frame.DataFrame'>\n",
      "Index: 999 entries, 0 to 998\n",
      "Data columns (total 9 columns):\n",
      " #   Column      Non-Null Count  Dtype  \n",
      "---  ------      --------------  -----  \n",
      " 0   Unnamed: 0  999 non-null    int64  \n",
      " 1   title       999 non-null    object \n",
      " 2   score       999 non-null    int64  \n",
      " 3   id          999 non-null    object \n",
      " 4   url         999 non-null    object \n",
      " 5   comms_num   999 non-null    int64  \n",
      " 6   created     999 non-null    float64\n",
      " 7   body        0 non-null      object \n",
      " 8   timestamp   999 non-null    object \n",
      "dtypes: float64(1), int64(3), object(5)\n",
      "memory usage: 78.0+ KB\n"
     ]
    }
   ],
   "source": [
    "df.dropna(subset=[\"url\"], inplace=True)\n",
    "df.info()"
   ]
  },
  {
   "cell_type": "code",
   "execution_count": 42,
   "id": "40fc5077-ca1b-4625-b07e-3561a4c2cce1",
   "metadata": {},
   "outputs": [],
   "source": [
    "urls = df.url"
   ]
  },
  {
   "cell_type": "code",
   "execution_count": 43,
   "id": "b7fcc78c-71f3-410b-888c-7609575edf3b",
   "metadata": {},
   "outputs": [
    {
     "data": {
      "text/plain": [
       "1    https://i.redd.it/cmem70sowcm81.gif\n",
       "2    https://i.redd.it/5kxyntrizhm81.gif\n",
       "3    https://i.redd.it/p4rc3d0yl1q81.jpg\n",
       "4    https://i.redd.it/ycsi7qy775q81.gif\n",
       "5    https://i.redd.it/70uum4rpxll81.gif\n",
       "6    https://i.redd.it/fepe187jfjn81.gif\n",
       "7    https://i.redd.it/to10s17e2bp81.gif\n",
       "8    https://i.redd.it/z3i1fbc6kfq81.gif\n",
       "Name: url, dtype: object"
      ]
     },
     "execution_count": 43,
     "metadata": {},
     "output_type": "execute_result"
    }
   ],
   "source": [
    "urls[1:9]"
   ]
  },
  {
   "cell_type": "code",
   "execution_count": 47,
   "id": "73f3dd27-dfb7-48c3-838c-7756b7f83252",
   "metadata": {},
   "outputs": [],
   "source": [
    "def extract_text(url):\n",
    "    image = Image.open(requests.get(url, stream=True).raw)\n",
    "    text = pytesseract.image_to_string(image)\n",
    "    return text\n",
    "\n",
    "\n",
    "def image_to_text(url):\n",
    "    processor = AutoProcessor.from_pretrained(\"Salesforce/blip-image-captioning-base\")\n",
    "    model = BlipForConditionalGeneration.from_pretrained(\"Salesforce/blip-image-captioning-base\")\n",
    "    image = Image.open(requests.get(url, stream=True).raw)\n",
    "    text = \"A picture of\"\n",
    "    \n",
    "    inputs = processor(images=image, text=text, return_tensors=\"pt\")\n",
    "    \n",
    "    outputs = model.generate(**inputs)\n",
    "    caption = processor.tokenizer.decode(outputs[0], skip_special_tokens=True)\n",
    "    return caption\n",
    "\n",
    "\n",
    "def generate_caption(extracted_text, text_from_image):\n",
    "    prompt = f\"\"\"you are a humoros meme caption generator. generate one caption for this text extracted from the meme {extracted_text} \n",
    "    and this description of the image {text_from_image}' \"\"\"\n",
    "    response = ollama.chat(model=\"mistral\", messages=[{\"role\": \"user\", \"content\": prompt}])\n",
    "    return response['message']['content']\n"
   ]
  },
  {
   "cell_type": "code",
   "execution_count": 48,
   "id": "f162f210-d00f-4ad8-a02d-7815f3ffce22",
   "metadata": {},
   "outputs": [],
   "source": [
    "def pipeline(url):\n",
    "    extracted_text = extract_text(url)\n",
    "    text_from_image = image_to_text(url)\n",
    "    generated_caption = generate_caption(extracted_text, text_from_image)\n",
    "    return generated_caption"
   ]
  },
  {
   "cell_type": "code",
   "execution_count": null,
   "id": "3e1ff2e4-067f-4262-9801-8905c9f5b54f",
   "metadata": {},
   "outputs": [
    {
     "name": "stdout",
     "output_type": "stream",
     "text": [
      "https://i.redd.it/zysreb6cv3q81.gif\n",
      " Caption: \"When Will Smith realizes Jada's reaction wasn't about him, but the guy behind him popcorn spilling dramatically!\" (with a picture of a man laughing hysterically followed by a confused expression)\n",
      "https://i.redd.it/cmem70sowcm81.gif\n",
      " \"When you thought your high school math skills would suffice for rocket science...\"\n",
      "https://i.redd.it/5kxyntrizhm81.gif\n",
      " USA: \"When you realize Ukraine has all the good stuff under the ground...\" *Picks up phone* \"Oh hi, Saudi Arabia... I was wondering if you have a minute to talk about oil deposits?\"\n",
      "https://i.redd.it/p4rc3d0yl1q81.jpg\n",
      " When someone tells a dad joke about *your* wife, Will Smith's reaction! 😜🚀💥\n",
      "https://i.redd.it/ycsi7qy775q81.gif\n",
      " \"Preparing for the World Cup of Wit: When your joke is as round as a soccer ball, but it needs to be funny as an onion!\"\n",
      "https://i.redd.it/70uum4rpxll81.gif\n"
     ]
    }
   ],
   "source": [
    "for i in range(7):\n",
    "    print(urls[i])\n",
    "    captions = pipeline(urls[i])\n",
    "    print(captions)"
   ]
  },
  {
   "cell_type": "code",
   "execution_count": null,
   "id": "ca7bb533-6b7f-4ad6-b00f-7d215a86a868",
   "metadata": {},
   "outputs": [],
   "source": []
  }
 ],
 "metadata": {
  "kernelspec": {
   "display_name": "Python 3 (ipykernel)",
   "language": "python",
   "name": "python3"
  },
  "language_info": {
   "codemirror_mode": {
    "name": "ipython",
    "version": 3
   },
   "file_extension": ".py",
   "mimetype": "text/x-python",
   "name": "python",
   "nbconvert_exporter": "python",
   "pygments_lexer": "ipython3",
   "version": "3.12.4"
  }
 },
 "nbformat": 4,
 "nbformat_minor": 5
}
