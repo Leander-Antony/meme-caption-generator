{
 "cells": [
  {
   "cell_type": "code",
   "execution_count": 4,
   "id": "ee64d5f5-7b20-4c08-9ae9-ef3ca92cb102",
   "metadata": {},
   "outputs": [
    {
     "name": "stdout",
     "output_type": "stream",
     "text": [
      "Warning: Looks like you're using an outdated `kagglehub` version (installed: 0.3.7), please consider upgrading to the latest version (0.3.11).\n",
      "Path to dataset files: C:\\Users\\Leander Antony\\.cache\\kagglehub\\datasets\\akuppps\\dankmemes-reddit-top-comments\\versions\\1\n"
     ]
    }
   ],
   "source": [
    "import kagglehub\n",
    "import pytesseract\n",
    "from PIL import Image\n",
    "import requests\n",
    "import pandas as pd\n",
    "from transformers import AutoProcessor, BlipForConditionalGeneration\n",
    "\n",
    "# Download latest version\n",
    "path = kagglehub.dataset_download(\"akuppps/dankmemes-reddit-top-comments\")\n",
    "\n",
    "print(\"Path to dataset files:\", path)"
   ]
  },
  {
   "cell_type": "code",
   "execution_count": 5,
   "id": "9c6feaff-408e-4925-9268-e883845742d8",
   "metadata": {},
   "outputs": [],
   "source": [
    "df = pd.read_csv(\"C:\\\\Users\\\\Leander Antony\\\\.cache\\\\kagglehub\\\\datasets\\\\akuppps\\\\dankmemes-reddit-top-comments\\\\versions\\\\1\\\\dankmemes_Top_Comments.csv\")"
   ]
  },
  {
   "cell_type": "code",
   "execution_count": 6,
   "id": "2bf89e5c-b1af-42b7-9f07-d22d0739969a",
   "metadata": {},
   "outputs": [
    {
     "data": {
      "text/html": [
       "<div>\n",
       "<style scoped>\n",
       "    .dataframe tbody tr th:only-of-type {\n",
       "        vertical-align: middle;\n",
       "    }\n",
       "\n",
       "    .dataframe tbody tr th {\n",
       "        vertical-align: top;\n",
       "    }\n",
       "\n",
       "    .dataframe thead th {\n",
       "        text-align: right;\n",
       "    }\n",
       "</style>\n",
       "<table border=\"1\" class=\"dataframe\">\n",
       "  <thead>\n",
       "    <tr style=\"text-align: right;\">\n",
       "      <th></th>\n",
       "      <th>Unnamed: 0</th>\n",
       "      <th>title</th>\n",
       "      <th>score</th>\n",
       "      <th>id</th>\n",
       "      <th>url</th>\n",
       "      <th>comms_num</th>\n",
       "      <th>created</th>\n",
       "      <th>body</th>\n",
       "      <th>timestamp</th>\n",
       "    </tr>\n",
       "  </thead>\n",
       "  <tbody>\n",
       "    <tr>\n",
       "      <th>1691</th>\n",
       "      <td>1691</td>\n",
       "      <td>Comment</td>\n",
       "      <td>2</td>\n",
       "      <td>i3907y7</td>\n",
       "      <td>NaN</td>\n",
       "      <td>0</td>\n",
       "      <td>1.649009e+09</td>\n",
       "      <td>You live in the dankest timeline.</td>\n",
       "      <td>2022-04-03 14:01:31</td>\n",
       "    </tr>\n",
       "    <tr>\n",
       "      <th>963</th>\n",
       "      <td>963</td>\n",
       "      <td>The day we will lose everything</td>\n",
       "      <td>2276</td>\n",
       "      <td>tbxczl</td>\n",
       "      <td>https://i.redd.it/pzszenzcxsm81.gif</td>\n",
       "      <td>14</td>\n",
       "      <td>1.647025e+09</td>\n",
       "      <td>NaN</td>\n",
       "      <td>2022-03-11 13:57:25</td>\n",
       "    </tr>\n",
       "    <tr>\n",
       "      <th>535</th>\n",
       "      <td>535</td>\n",
       "      <td>You had my curiosity, now you have my attention</td>\n",
       "      <td>7604</td>\n",
       "      <td>t9ocl9</td>\n",
       "      <td>https://i.redd.it/sr8zy8r8l7m81.gif</td>\n",
       "      <td>35</td>\n",
       "      <td>1.646767e+09</td>\n",
       "      <td>NaN</td>\n",
       "      <td>2022-03-08 14:11:04</td>\n",
       "    </tr>\n",
       "    <tr>\n",
       "      <th>53</th>\n",
       "      <td>53</td>\n",
       "      <td>The fuckers are now demanding to change location</td>\n",
       "      <td>50610</td>\n",
       "      <td>t9k864</td>\n",
       "      <td>https://i.redd.it/awui7l52p6m81.jpg</td>\n",
       "      <td>336</td>\n",
       "      <td>1.646756e+09</td>\n",
       "      <td>NaN</td>\n",
       "      <td>2022-03-08 11:10:40</td>\n",
       "    </tr>\n",
       "    <tr>\n",
       "      <th>867</th>\n",
       "      <td>867</td>\n",
       "      <td>they all have</td>\n",
       "      <td>2944</td>\n",
       "      <td>t7admg</td>\n",
       "      <td>https://i.redd.it/pvi57kt5qkl81.jpg</td>\n",
       "      <td>45</td>\n",
       "      <td>1.646490e+09</td>\n",
       "      <td>NaN</td>\n",
       "      <td>2022-03-05 09:17:39</td>\n",
       "    </tr>\n",
       "    <tr>\n",
       "      <th>314</th>\n",
       "      <td>314</td>\n",
       "      <td>Zeus would be proud</td>\n",
       "      <td>13873</td>\n",
       "      <td>trbzts</td>\n",
       "      <td>https://i.redd.it/ki0sdq9k5dq81.jpg</td>\n",
       "      <td>84</td>\n",
       "      <td>1.648577e+09</td>\n",
       "      <td>NaN</td>\n",
       "      <td>2022-03-29 14:10:24</td>\n",
       "    </tr>\n",
       "    <tr>\n",
       "      <th>862</th>\n",
       "      <td>862</td>\n",
       "      <td>funny little astronaut</td>\n",
       "      <td>2990</td>\n",
       "      <td>tozng9</td>\n",
       "      <td>https://i.redd.it/pdx3izurtrp81.gif</td>\n",
       "      <td>18</td>\n",
       "      <td>1.648319e+09</td>\n",
       "      <td>NaN</td>\n",
       "      <td>2022-03-26 14:26:57</td>\n",
       "    </tr>\n",
       "    <tr>\n",
       "      <th>903</th>\n",
       "      <td>903</td>\n",
       "      <td>Science is HARD.</td>\n",
       "      <td>2670</td>\n",
       "      <td>tlxhqz</td>\n",
       "      <td>https://i.redd.it/6p8g4rttc9p81.jpg</td>\n",
       "      <td>41</td>\n",
       "      <td>1.648096e+09</td>\n",
       "      <td>NaN</td>\n",
       "      <td>2022-03-24 00:19:51</td>\n",
       "    </tr>\n",
       "    <tr>\n",
       "      <th>208</th>\n",
       "      <td>208</td>\n",
       "      <td>I think I did a better job, more characters..</td>\n",
       "      <td>19986</td>\n",
       "      <td>t7a4d6</td>\n",
       "      <td>https://i.redd.it/md1sycapnkl81.gif</td>\n",
       "      <td>47</td>\n",
       "      <td>1.646489e+09</td>\n",
       "      <td>NaN</td>\n",
       "      <td>2022-03-05 09:04:24</td>\n",
       "    </tr>\n",
       "    <tr>\n",
       "      <th>630</th>\n",
       "      <td>630</td>\n",
       "      <td>She has been 'Taken care of'.</td>\n",
       "      <td>5977</td>\n",
       "      <td>tckl11</td>\n",
       "      <td>https://i.redd.it/2tfyrn85hzm81.jpg</td>\n",
       "      <td>14</td>\n",
       "      <td>1.647104e+09</td>\n",
       "      <td>NaN</td>\n",
       "      <td>2022-03-12 11:58:01</td>\n",
       "    </tr>\n",
       "  </tbody>\n",
       "</table>\n",
       "</div>"
      ],
      "text/plain": [
       "      Unnamed: 0                                             title  score  \\\n",
       "1691        1691                                           Comment      2   \n",
       "963          963                   The day we will lose everything   2276   \n",
       "535          535   You had my curiosity, now you have my attention   7604   \n",
       "53            53  The fuckers are now demanding to change location  50610   \n",
       "867          867                                     they all have   2944   \n",
       "314          314                               Zeus would be proud  13873   \n",
       "862          862                            funny little astronaut   2990   \n",
       "903          903                                  Science is HARD.   2670   \n",
       "208          208     I think I did a better job, more characters..  19986   \n",
       "630          630                     She has been 'Taken care of'.   5977   \n",
       "\n",
       "           id                                  url  comms_num       created  \\\n",
       "1691  i3907y7                                  NaN          0  1.649009e+09   \n",
       "963    tbxczl  https://i.redd.it/pzszenzcxsm81.gif         14  1.647025e+09   \n",
       "535    t9ocl9  https://i.redd.it/sr8zy8r8l7m81.gif         35  1.646767e+09   \n",
       "53     t9k864  https://i.redd.it/awui7l52p6m81.jpg        336  1.646756e+09   \n",
       "867    t7admg  https://i.redd.it/pvi57kt5qkl81.jpg         45  1.646490e+09   \n",
       "314    trbzts  https://i.redd.it/ki0sdq9k5dq81.jpg         84  1.648577e+09   \n",
       "862    tozng9  https://i.redd.it/pdx3izurtrp81.gif         18  1.648319e+09   \n",
       "903    tlxhqz  https://i.redd.it/6p8g4rttc9p81.jpg         41  1.648096e+09   \n",
       "208    t7a4d6  https://i.redd.it/md1sycapnkl81.gif         47  1.646489e+09   \n",
       "630    tckl11  https://i.redd.it/2tfyrn85hzm81.jpg         14  1.647104e+09   \n",
       "\n",
       "                                   body            timestamp  \n",
       "1691  You live in the dankest timeline.  2022-04-03 14:01:31  \n",
       "963                                 NaN  2022-03-11 13:57:25  \n",
       "535                                 NaN  2022-03-08 14:11:04  \n",
       "53                                  NaN  2022-03-08 11:10:40  \n",
       "867                                 NaN  2022-03-05 09:17:39  \n",
       "314                                 NaN  2022-03-29 14:10:24  \n",
       "862                                 NaN  2022-03-26 14:26:57  \n",
       "903                                 NaN  2022-03-24 00:19:51  \n",
       "208                                 NaN  2022-03-05 09:04:24  \n",
       "630                                 NaN  2022-03-12 11:58:01  "
      ]
     },
     "execution_count": 6,
     "metadata": {},
     "output_type": "execute_result"
    }
   ],
   "source": [
    "df.sample(10)"
   ]
  },
  {
   "cell_type": "code",
   "execution_count": 7,
   "id": "b80957ac-31c4-4b07-bf97-b493b218348a",
   "metadata": {},
   "outputs": [
    {
     "data": {
      "text/plain": [
       "1898"
      ]
     },
     "execution_count": 7,
     "metadata": {},
     "output_type": "execute_result"
    }
   ],
   "source": [
    "len(df[\"title\"])"
   ]
  },
  {
   "cell_type": "code",
   "execution_count": 8,
   "id": "bc31e83e-cdf6-4a6c-9ef9-bd8a4d5d448d",
   "metadata": {},
   "outputs": [
    {
     "data": {
      "text/plain": [
       "Unnamed: 0      0\n",
       "title           0\n",
       "score           0\n",
       "id              0\n",
       "url           899\n",
       "comms_num       0\n",
       "created         0\n",
       "body          999\n",
       "timestamp       0\n",
       "dtype: int64"
      ]
     },
     "execution_count": 8,
     "metadata": {},
     "output_type": "execute_result"
    }
   ],
   "source": [
    "df.isna().sum()"
   ]
  },
  {
   "cell_type": "code",
   "execution_count": 9,
   "id": "a58f3fee-caa8-483c-8278-2bcee8b854a0",
   "metadata": {},
   "outputs": [
    {
     "name": "stdout",
     "output_type": "stream",
     "text": [
      "<class 'pandas.core.frame.DataFrame'>\n",
      "Index: 999 entries, 0 to 998\n",
      "Data columns (total 9 columns):\n",
      " #   Column      Non-Null Count  Dtype  \n",
      "---  ------      --------------  -----  \n",
      " 0   Unnamed: 0  999 non-null    int64  \n",
      " 1   title       999 non-null    object \n",
      " 2   score       999 non-null    int64  \n",
      " 3   id          999 non-null    object \n",
      " 4   url         999 non-null    object \n",
      " 5   comms_num   999 non-null    int64  \n",
      " 6   created     999 non-null    float64\n",
      " 7   body        0 non-null      object \n",
      " 8   timestamp   999 non-null    object \n",
      "dtypes: float64(1), int64(3), object(5)\n",
      "memory usage: 78.0+ KB\n"
     ]
    }
   ],
   "source": [
    "df.dropna(subset=[\"url\"], inplace=True)\n",
    "df.info()"
   ]
  },
  {
   "cell_type": "code",
   "execution_count": 10,
   "id": "40fc5077-ca1b-4625-b07e-3561a4c2cce1",
   "metadata": {},
   "outputs": [],
   "source": [
    "urls = df.url"
   ]
  },
  {
   "cell_type": "code",
   "execution_count": 12,
   "id": "b7fcc78c-71f3-410b-888c-7609575edf3b",
   "metadata": {},
   "outputs": [
    {
     "data": {
      "text/plain": [
       "1    https://i.redd.it/cmem70sowcm81.gif\n",
       "2    https://i.redd.it/5kxyntrizhm81.gif\n",
       "3    https://i.redd.it/p4rc3d0yl1q81.jpg\n",
       "4    https://i.redd.it/ycsi7qy775q81.gif\n",
       "5    https://i.redd.it/70uum4rpxll81.gif\n",
       "6    https://i.redd.it/fepe187jfjn81.gif\n",
       "7    https://i.redd.it/to10s17e2bp81.gif\n",
       "8    https://i.redd.it/z3i1fbc6kfq81.gif\n",
       "Name: url, dtype: object"
      ]
     },
     "execution_count": 12,
     "metadata": {},
     "output_type": "execute_result"
    }
   ],
   "source": [
    "urls[1:9]"
   ]
  },
  {
   "cell_type": "code",
   "execution_count": 14,
   "id": "8cf93f76-a898-454c-bd5c-c4a61d04362a",
   "metadata": {},
   "outputs": [
    {
     "name": "stdout",
     "output_type": "stream",
     "text": [
      "https://i.redd.it/zysreb6cv3q81.gif\n",
      "Extracted Text: will smith laughing lly a\n",
      "then seeing his wife's reacti\n",
      "\n",
      "\n",
      "https://i.redd.it/cmem70sowcm81.gif\n",
      "Extracted Text: That one dude at NASA after\n",
      "realizing, that 77 + 33 isn't 100:\n",
      "\n",
      "\n",
      "https://i.redd.it/5kxyntrizhm81.gif\n",
      "Extracted Text: Ukraine: Help us, we are under attack from Russia!\n",
      "USA: ...\n",
      "\n",
      "Ukraine: They want to take our large oil deposits.\n",
      "\n",
      "USA:\n",
      "\n",
      "! A ee\n",
      "\n",
      "https://i.redd.it/p4rc3d0yl1q81.jpg\n",
      "Extracted Text: Will\n",
      "Smith when\n",
      "someone \"smashes\"\n",
      "his wife.\n",
      "\n",
      "Will Smith\n",
      "when someone\n",
      "tells a joke\n",
      "about his wife.\n",
      "\n",
      "\n",
      "https://i.redd.it/ycsi7qy775q81.gif\n",
      "Extracted Text: Comedians preparing to make jokes in\n",
      "the Oscar's gala\n",
      "\n",
      "\n",
      "https://i.redd.it/70uum4rpxll81.gif\n",
      "Extracted Text: China after watching\n",
      "Russia commit 19999687\n",
      "\n",
      "war crimes in one week:\n",
      "\n",
      "70) made with\n",
      "Gd) reface app\n",
      "\n",
      "https://i.redd.it/fepe187jfjn81.gif\n",
      "Extracted Text: Russians after selling an item\n",
      "on Steam Marketplace for $0.25\n",
      "lee |\n",
      "\n",
      "=>\n",
      "\n",
      "=\n",
      "\n",
      "a?\n",
      "\n",
      "aa oe\n",
      "\n"
     ]
    }
   ],
   "source": [
    "pytesseract.pytesseract.tesseract_cmd = r'C:\\Program Files\\Tesseract-OCR\\tesseract.exe' # my dir where i installed tesseract\n",
    "\n",
    "\n",
    "for i in range(7):\n",
    "    url = urls[i]\n",
    "    print(url)\n",
    "    ocr_text = extract_text(url)\n",
    "    print(\"Extracted:\", ocr_text)\n",
    "    \n",
    "def extract_text(image_url):\n",
    "    image = Image.open(requests.get(image_url, stream=True).raw)\n",
    "    text = pytesseract.image_to_string(image)\n",
    "    return text\n"
   ]
  },
  {
   "cell_type": "code",
   "execution_count": 5,
   "id": "c602d62d-a787-4c91-a4b3-5e8ab7e07053",
   "metadata": {},
   "outputs": [],
   "source": [
    "def image_to_text(url):\n",
    "    processor = AutoProcessor.from_pretrained(\"Salesforce/blip-image-captioning-base\")\n",
    "    model = BlipForConditionalGeneration.from_pretrained(\"Salesforce/blip-image-captioning-base\")\n",
    "    image = Image.open(requests.get(url, stream=True).raw)\n",
    "    text = \"A picture of\"\n",
    "    \n",
    "    inputs = processor(images=image, text=text, return_tensors=\"pt\")\n",
    "    \n",
    "    outputs = model.generate(**inputs)\n",
    "    caption = processor.tokenizer.decode(outputs[0], skip_special_tokens=True)\n",
    "    print(caption)"
   ]
  },
  {
   "cell_type": "code",
   "execution_count": 6,
   "id": "cfd156ee-1f37-4ece-b24e-a64bcbcefb0f",
   "metadata": {},
   "outputs": [
    {
     "name": "stdout",
     "output_type": "stream",
     "text": [
      "a picture of a person with a smile on their face\n"
     ]
    }
   ],
   "source": [
    "image_to_text(url)"
   ]
  },
  {
   "cell_type": "code",
   "execution_count": 7,
   "id": "02bf1c68-1982-4cd7-a3d8-9c56c5bb04ef",
   "metadata": {},
   "outputs": [],
   "source": [
    "import ollama "
   ]
  },
  {
   "cell_type": "code",
   "execution_count": 30,
   "id": "97f24730-ca48-4feb-abdb-3de93d469d32",
   "metadata": {},
   "outputs": [
    {
     "name": "stdout",
     "output_type": "stream",
     "text": [
      " \"When you realize Russia's total count is just a simple calculator away, but you're still impressed by their commitment to the decimal point!\"\n"
     ]
    }
   ],
   "source": [
    "prompt = f\"\"\"you are a humoros meme caption generator. generate one caption for this text extracted from the meme 'China after watching\n",
    "Russia commit 19999687' and this description of the image 'a picture of a person with a smile on their face' \"\"\"\n",
    "response = ollama.chat(model=\"mistral\", messages=[{\"role\": \"user\", \"content\": prompt}])\n",
    "print(response['message']['content'])"
   ]
  }
 ],
 "metadata": {
  "kernelspec": {
   "display_name": "Python 3 (ipykernel)",
   "language": "python",
   "name": "python3"
  },
  "language_info": {
   "codemirror_mode": {
    "name": "ipython",
    "version": 3
   },
   "file_extension": ".py",
   "mimetype": "text/x-python",
   "name": "python",
   "nbconvert_exporter": "python",
   "pygments_lexer": "ipython3",
   "version": "3.12.4"
  }
 },
 "nbformat": 4,
 "nbformat_minor": 5
}
