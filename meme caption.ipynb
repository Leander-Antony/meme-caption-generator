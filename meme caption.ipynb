{
 "cells": [
  {
   "cell_type": "code",
   "execution_count": 1,
   "id": "ee64d5f5-7b20-4c08-9ae9-ef3ca92cb102",
   "metadata": {},
   "outputs": [
    {
     "name": "stderr",
     "output_type": "stream",
     "text": [
      "C:\\Users\\Leander Antony\\AppData\\Local\\Programs\\Python\\Python312\\Lib\\site-packages\\tqdm\\auto.py:21: TqdmWarning: IProgress not found. Please update jupyter and ipywidgets. See https://ipywidgets.readthedocs.io/en/stable/user_install.html\n",
      "  from .autonotebook import tqdm as notebook_tqdm\n"
     ]
    },
    {
     "name": "stdout",
     "output_type": "stream",
     "text": [
      "Warning: Looks like you're using an outdated `kagglehub` version (installed: 0.3.7), please consider upgrading to the latest version (0.3.11).\n",
      "Path to dataset files: C:\\Users\\Leander Antony\\.cache\\kagglehub\\datasets\\akuppps\\dankmemes-reddit-top-comments\\versions\\1\n"
     ]
    }
   ],
   "source": [
    "import kagglehub\n",
    "import pytesseract\n",
    "from PIL import Image\n",
    "import requests\n",
    "import pandas as pd\n",
    "from transformers import AutoProcessor, BlipForConditionalGeneration\n",
    "import ollama \n",
    "\n",
    "pytesseract.pytesseract.tesseract_cmd = r'C:\\Program Files\\Tesseract-OCR\\tesseract.exe' # my dir where i installed tesseract\n",
    "\n",
    "# Download latest version\n",
    "path = kagglehub.dataset_download(\"akuppps/dankmemes-reddit-top-comments\")\n",
    "\n",
    "print(\"Path to dataset files:\", path)"
   ]
  },
  {
   "cell_type": "code",
   "execution_count": 2,
   "id": "9c6feaff-408e-4925-9268-e883845742d8",
   "metadata": {},
   "outputs": [],
   "source": [
    "df = pd.read_csv(\"C:\\\\Users\\\\Leander Antony\\\\.cache\\\\kagglehub\\\\datasets\\\\akuppps\\\\dankmemes-reddit-top-comments\\\\versions\\\\1\\\\dankmemes_Top_Comments.csv\")"
   ]
  },
  {
   "cell_type": "code",
   "execution_count": 3,
   "id": "2bf89e5c-b1af-42b7-9f07-d22d0739969a",
   "metadata": {},
   "outputs": [
    {
     "data": {
      "text/html": [
       "<div>\n",
       "<style scoped>\n",
       "    .dataframe tbody tr th:only-of-type {\n",
       "        vertical-align: middle;\n",
       "    }\n",
       "\n",
       "    .dataframe tbody tr th {\n",
       "        vertical-align: top;\n",
       "    }\n",
       "\n",
       "    .dataframe thead th {\n",
       "        text-align: right;\n",
       "    }\n",
       "</style>\n",
       "<table border=\"1\" class=\"dataframe\">\n",
       "  <thead>\n",
       "    <tr style=\"text-align: right;\">\n",
       "      <th></th>\n",
       "      <th>Unnamed: 0</th>\n",
       "      <th>title</th>\n",
       "      <th>score</th>\n",
       "      <th>id</th>\n",
       "      <th>url</th>\n",
       "      <th>comms_num</th>\n",
       "      <th>created</th>\n",
       "      <th>body</th>\n",
       "      <th>timestamp</th>\n",
       "    </tr>\n",
       "  </thead>\n",
       "  <tbody>\n",
       "    <tr>\n",
       "      <th>1418</th>\n",
       "      <td>1418</td>\n",
       "      <td>Comment</td>\n",
       "      <td>1</td>\n",
       "      <td>i39bsic</td>\n",
       "      <td>NaN</td>\n",
       "      <td>0</td>\n",
       "      <td>1.649014e+09</td>\n",
       "      <td>Oh bruh</td>\n",
       "      <td>2022-04-03 15:21:11</td>\n",
       "    </tr>\n",
       "    <tr>\n",
       "      <th>329</th>\n",
       "      <td>329</td>\n",
       "      <td>Let's go find some feathers</td>\n",
       "      <td>13531</td>\n",
       "      <td>th1glp</td>\n",
       "      <td>https://i.redd.it/094tpclea5o81.gif</td>\n",
       "      <td>60</td>\n",
       "      <td>1.647611e+09</td>\n",
       "      <td>NaN</td>\n",
       "      <td>2022-03-18 09:35:02</td>\n",
       "    </tr>\n",
       "    <tr>\n",
       "      <th>1075</th>\n",
       "      <td>1075</td>\n",
       "      <td>Comment</td>\n",
       "      <td>1</td>\n",
       "      <td>i39uuas</td>\n",
       "      <td>NaN</td>\n",
       "      <td>0</td>\n",
       "      <td>1.649022e+09</td>\n",
       "      <td>—(bots)—</td>\n",
       "      <td>2022-04-03 17:34:27</td>\n",
       "    </tr>\n",
       "    <tr>\n",
       "      <th>1880</th>\n",
       "      <td>1880</td>\n",
       "      <td>Comment</td>\n",
       "      <td>1</td>\n",
       "      <td>i38szvn</td>\n",
       "      <td>NaN</td>\n",
       "      <td>0</td>\n",
       "      <td>1.649006e+09</td>\n",
       "      <td>**Read this entire comment before modmailing u...</td>\n",
       "      <td>2022-04-03 13:12:43</td>\n",
       "    </tr>\n",
       "    <tr>\n",
       "      <th>62</th>\n",
       "      <td>62</td>\n",
       "      <td>RIP YouTube Vanced</td>\n",
       "      <td>48555</td>\n",
       "      <td>tdqfph</td>\n",
       "      <td>https://i.imgur.com/nEOCAGd.png</td>\n",
       "      <td>2372</td>\n",
       "      <td>1.647237e+09</td>\n",
       "      <td>NaN</td>\n",
       "      <td>2022-03-14 01:54:19</td>\n",
       "    </tr>\n",
       "    <tr>\n",
       "      <th>1891</th>\n",
       "      <td>1891</td>\n",
       "      <td>Comment</td>\n",
       "      <td>1</td>\n",
       "      <td>i38se1f</td>\n",
       "      <td>NaN</td>\n",
       "      <td>0</td>\n",
       "      <td>1.649006e+09</td>\n",
       "      <td>This submission has been removed.  As an anti-...</td>\n",
       "      <td>2022-04-03 13:08:31</td>\n",
       "    </tr>\n",
       "    <tr>\n",
       "      <th>501</th>\n",
       "      <td>501</td>\n",
       "      <td>It do be like that</td>\n",
       "      <td>8343</td>\n",
       "      <td>trblfh</td>\n",
       "      <td>https://i.redd.it/ij8x3uzu4dq81.gif</td>\n",
       "      <td>35</td>\n",
       "      <td>1.648577e+09</td>\n",
       "      <td>NaN</td>\n",
       "      <td>2022-03-29 14:06:36</td>\n",
       "    </tr>\n",
       "    <tr>\n",
       "      <th>144</th>\n",
       "      <td>144</td>\n",
       "      <td>yes .</td>\n",
       "      <td>27285</td>\n",
       "      <td>tatwih</td>\n",
       "      <td>https://i.redd.it/6itgcg5bkim81.gif</td>\n",
       "      <td>181</td>\n",
       "      <td>1.646900e+09</td>\n",
       "      <td>NaN</td>\n",
       "      <td>2022-03-10 03:05:29</td>\n",
       "    </tr>\n",
       "    <tr>\n",
       "      <th>1288</th>\n",
       "      <td>1288</td>\n",
       "      <td>Comment</td>\n",
       "      <td>1</td>\n",
       "      <td>i39jecw</td>\n",
       "      <td>NaN</td>\n",
       "      <td>0</td>\n",
       "      <td>1.649017e+09</td>\n",
       "      <td>Drink</td>\n",
       "      <td>2022-04-03 16:13:22</td>\n",
       "    </tr>\n",
       "    <tr>\n",
       "      <th>449</th>\n",
       "      <td>449</td>\n",
       "      <td>HAHAHAHAHA BECAUSE THEY'RE UPSIDE DOWN</td>\n",
       "      <td>9784</td>\n",
       "      <td>toc0zx</td>\n",
       "      <td>https://i.redd.it/6pi0ax1nvmp81.gif</td>\n",
       "      <td>38</td>\n",
       "      <td>1.648259e+09</td>\n",
       "      <td>NaN</td>\n",
       "      <td>2022-03-25 21:48:31</td>\n",
       "    </tr>\n",
       "  </tbody>\n",
       "</table>\n",
       "</div>"
      ],
      "text/plain": [
       "      Unnamed: 0                                   title  score       id  \\\n",
       "1418        1418                                 Comment      1  i39bsic   \n",
       "329          329             Let's go find some feathers  13531   th1glp   \n",
       "1075        1075                                 Comment      1  i39uuas   \n",
       "1880        1880                                 Comment      1  i38szvn   \n",
       "62            62                      RIP YouTube Vanced  48555   tdqfph   \n",
       "1891        1891                                 Comment      1  i38se1f   \n",
       "501          501                      It do be like that   8343   trblfh   \n",
       "144          144                                   yes .  27285   tatwih   \n",
       "1288        1288                                 Comment      1  i39jecw   \n",
       "449          449  HAHAHAHAHA BECAUSE THEY'RE UPSIDE DOWN   9784   toc0zx   \n",
       "\n",
       "                                      url  comms_num       created  \\\n",
       "1418                                  NaN          0  1.649014e+09   \n",
       "329   https://i.redd.it/094tpclea5o81.gif         60  1.647611e+09   \n",
       "1075                                  NaN          0  1.649022e+09   \n",
       "1880                                  NaN          0  1.649006e+09   \n",
       "62        https://i.imgur.com/nEOCAGd.png       2372  1.647237e+09   \n",
       "1891                                  NaN          0  1.649006e+09   \n",
       "501   https://i.redd.it/ij8x3uzu4dq81.gif         35  1.648577e+09   \n",
       "144   https://i.redd.it/6itgcg5bkim81.gif        181  1.646900e+09   \n",
       "1288                                  NaN          0  1.649017e+09   \n",
       "449   https://i.redd.it/6pi0ax1nvmp81.gif         38  1.648259e+09   \n",
       "\n",
       "                                                   body            timestamp  \n",
       "1418                                            Oh bruh  2022-04-03 15:21:11  \n",
       "329                                                 NaN  2022-03-18 09:35:02  \n",
       "1075                                           —(bots)—  2022-04-03 17:34:27  \n",
       "1880  **Read this entire comment before modmailing u...  2022-04-03 13:12:43  \n",
       "62                                                  NaN  2022-03-14 01:54:19  \n",
       "1891  This submission has been removed.  As an anti-...  2022-04-03 13:08:31  \n",
       "501                                                 NaN  2022-03-29 14:06:36  \n",
       "144                                                 NaN  2022-03-10 03:05:29  \n",
       "1288                                              Drink  2022-04-03 16:13:22  \n",
       "449                                                 NaN  2022-03-25 21:48:31  "
      ]
     },
     "execution_count": 3,
     "metadata": {},
     "output_type": "execute_result"
    }
   ],
   "source": [
    "df.sample(10)"
   ]
  },
  {
   "cell_type": "code",
   "execution_count": 4,
   "id": "b80957ac-31c4-4b07-bf97-b493b218348a",
   "metadata": {},
   "outputs": [
    {
     "data": {
      "text/plain": [
       "1898"
      ]
     },
     "execution_count": 4,
     "metadata": {},
     "output_type": "execute_result"
    }
   ],
   "source": [
    "len(df[\"title\"])"
   ]
  },
  {
   "cell_type": "code",
   "execution_count": 5,
   "id": "bc31e83e-cdf6-4a6c-9ef9-bd8a4d5d448d",
   "metadata": {},
   "outputs": [
    {
     "data": {
      "text/plain": [
       "Unnamed: 0      0\n",
       "title           0\n",
       "score           0\n",
       "id              0\n",
       "url           899\n",
       "comms_num       0\n",
       "created         0\n",
       "body          999\n",
       "timestamp       0\n",
       "dtype: int64"
      ]
     },
     "execution_count": 5,
     "metadata": {},
     "output_type": "execute_result"
    }
   ],
   "source": [
    "df.isna().sum()"
   ]
  },
  {
   "cell_type": "code",
   "execution_count": 6,
   "id": "a58f3fee-caa8-483c-8278-2bcee8b854a0",
   "metadata": {},
   "outputs": [
    {
     "name": "stdout",
     "output_type": "stream",
     "text": [
      "<class 'pandas.core.frame.DataFrame'>\n",
      "Index: 999 entries, 0 to 998\n",
      "Data columns (total 9 columns):\n",
      " #   Column      Non-Null Count  Dtype  \n",
      "---  ------      --------------  -----  \n",
      " 0   Unnamed: 0  999 non-null    int64  \n",
      " 1   title       999 non-null    object \n",
      " 2   score       999 non-null    int64  \n",
      " 3   id          999 non-null    object \n",
      " 4   url         999 non-null    object \n",
      " 5   comms_num   999 non-null    int64  \n",
      " 6   created     999 non-null    float64\n",
      " 7   body        0 non-null      object \n",
      " 8   timestamp   999 non-null    object \n",
      "dtypes: float64(1), int64(3), object(5)\n",
      "memory usage: 78.0+ KB\n"
     ]
    }
   ],
   "source": [
    "df.dropna(subset=[\"url\"], inplace=True)\n",
    "df.info()"
   ]
  },
  {
   "cell_type": "code",
   "execution_count": 7,
   "id": "40fc5077-ca1b-4625-b07e-3561a4c2cce1",
   "metadata": {},
   "outputs": [],
   "source": [
    "urls = df.url"
   ]
  },
  {
   "cell_type": "code",
   "execution_count": 8,
   "id": "b7fcc78c-71f3-410b-888c-7609575edf3b",
   "metadata": {},
   "outputs": [
    {
     "data": {
      "text/plain": [
       "1    https://i.redd.it/cmem70sowcm81.gif\n",
       "2    https://i.redd.it/5kxyntrizhm81.gif\n",
       "3    https://i.redd.it/p4rc3d0yl1q81.jpg\n",
       "4    https://i.redd.it/ycsi7qy775q81.gif\n",
       "5    https://i.redd.it/70uum4rpxll81.gif\n",
       "6    https://i.redd.it/fepe187jfjn81.gif\n",
       "7    https://i.redd.it/to10s17e2bp81.gif\n",
       "8    https://i.redd.it/z3i1fbc6kfq81.gif\n",
       "Name: url, dtype: object"
      ]
     },
     "execution_count": 8,
     "metadata": {},
     "output_type": "execute_result"
    }
   ],
   "source": [
    "urls[1:9]"
   ]
  },
  {
   "cell_type": "code",
   "execution_count": 9,
   "id": "73f3dd27-dfb7-48c3-838c-7756b7f83252",
   "metadata": {},
   "outputs": [],
   "source": [
    "def extract_text(url):\n",
    "    image = Image.open(requests.get(url, stream=True).raw)\n",
    "    text = pytesseract.image_to_string(image)\n",
    "    return text\n",
    "\n",
    "\n",
    "def image_to_text(url):\n",
    "    processor = AutoProcessor.from_pretrained(\"Salesforce/blip-image-captioning-base\")\n",
    "    model = BlipForConditionalGeneration.from_pretrained(\"Salesforce/blip-image-captioning-base\")\n",
    "    image = Image.open(requests.get(url, stream=True).raw)\n",
    "    text = \"A picture of\"\n",
    "    \n",
    "    inputs = processor(images=image, text=text, return_tensors=\"pt\")\n",
    "    \n",
    "    outputs = model.generate(**inputs)\n",
    "    caption = processor.tokenizer.decode(outputs[0], skip_special_tokens=True)\n",
    "    return caption\n",
    "\n",
    "\n",
    "def generate_caption(extracted_text, text_from_image):\n",
    "    prompt = f\"\"\"you are a humoros meme caption generator. generate one caption for this text extracted from the meme {extracted_text} \n",
    "    and this description of the image {text_from_image}' \"\"\"\n",
    "    response = ollama.chat(model=\"mistral\", messages=[{\"role\": \"user\", \"content\": prompt}])\n",
    "    return response['message']['content']\n"
   ]
  },
  {
   "cell_type": "code",
   "execution_count": 10,
   "id": "f162f210-d00f-4ad8-a02d-7815f3ffce22",
   "metadata": {},
   "outputs": [],
   "source": [
    "def pipeline(url):\n",
    "    extracted_text = extract_text(url)\n",
    "    text_from_image = image_to_text(url)\n",
    "    generated_caption = generate_caption(extracted_text, text_from_image)\n",
    "    return generated_caption"
   ]
  },
  {
   "cell_type": "code",
   "execution_count": 11,
   "id": "3e1ff2e4-067f-4262-9801-8905c9f5b54f",
   "metadata": {},
   "outputs": [
    {
     "name": "stdout",
     "output_type": "stream",
     "text": [
      "https://i.redd.it/zysreb6cv3q81.gif\n"
     ]
    },
    {
     "name": "stderr",
     "output_type": "stream",
     "text": [
      "C:\\Users\\Leander Antony\\AppData\\Local\\Programs\\Python\\Python312\\Lib\\site-packages\\transformers\\generation\\utils.py:1259: UserWarning: Using the model-agnostic default `max_length` (=20) to control the generation length. We recommend setting `max_new_tokens` to control the maximum length of the generation.\n",
      "  warnings.warn(\n"
     ]
    },
    {
     "name": "stdout",
     "output_type": "stream",
     "text": [
      " \"When you think you're the funniest in the room, but then you see your wife's reaction...\"\n",
      "   \"And then there's your wife, silently judging your humor level on a scale of 1 to 'Oh my God, did I really marry this guy?'\"\n",
      "https://i.redd.it/cmem70sowcm81.gif\n",
      " \"When you thought your math skills would save the launch, but you were wrong, Captain Rocketry!\"\n",
      "https://i.redd.it/5kxyntrizhm81.gif\n",
      " USA: \"When you realize they also want your meme game...\" (Picture of the man in a suit and tie shifty-eyed, hiding behind his laptop screen)\n",
      "https://i.redd.it/p4rc3d0yl1q81.jpg\n",
      " \"Will Smith, when someone tells a harmless joke about his choice of toilet paper brands... Still laughing, because it's the principle!\"\n",
      "https://i.redd.it/ycsi7qy775q81.gif\n",
      " \"Looks like they're about to kick off some laughs instead of goals at the Oscars!\"\n",
      "https://i.redd.it/70uum4rpxll81.gif\n",
      " \"When you realize Russia just set a new world record for 'Most War Crimes Per Week' using nothing but the Reface App and a whole lotta 'cheese'.\"\n",
      "https://i.redd.it/fepe187jfjn81.gif\n",
      " \"When you finally understand the true value of that old Soviet memorabilia... turns out it was always priceless!\"\n"
     ]
    }
   ],
   "source": [
    "for i in range(7):\n",
    "    print(urls[i])\n",
    "    captions = pipeline(urls[i])\n",
    "    print(captions)"
   ]
  },
  {
   "cell_type": "code",
   "execution_count": null,
   "id": "ca7bb533-6b7f-4ad6-b00f-7d215a86a868",
   "metadata": {},
   "outputs": [],
   "source": []
  }
 ],
 "metadata": {
  "kernelspec": {
   "display_name": "Python 3 (ipykernel)",
   "language": "python",
   "name": "python3"
  },
  "language_info": {
   "codemirror_mode": {
    "name": "ipython",
    "version": 3
   },
   "file_extension": ".py",
   "mimetype": "text/x-python",
   "name": "python",
   "nbconvert_exporter": "python",
   "pygments_lexer": "ipython3",
   "version": "3.12.4"
  }
 },
 "nbformat": 4,
 "nbformat_minor": 5
}
